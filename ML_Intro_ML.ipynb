{
 "cells": [
  {
   "cell_type": "code",
   "execution_count": 1,
   "metadata": {},
   "outputs": [],
   "source": [
    "#%logstop\n",
    "#%logstart -ortq ~/.logs/ML_Intro_ML.py append\n",
    "#%matplotlib inline\n",
    "import matplotlib\n",
    "import seaborn as sns\n",
    "sns.set()\n",
    "matplotlib.rcParams['figure.dpi'] = 144"
   ]
  },
  {
   "cell_type": "code",
   "execution_count": 2,
   "metadata": {},
   "outputs": [],
   "source": [
    "import numpy as np\n",
    "import matplotlib.pyplot as plt"
   ]
  },
  {
   "cell_type": "markdown",
   "metadata": {},
   "source": [
    "# Intro to Machine Learning"
   ]
  },
  {
   "cell_type": "markdown",
   "metadata": {},
   "source": [
    "What does it mean to learn?  Learning is a process where we take a series of observations and draw conclusions based on past experiences.  For example, we can learn to recognize patterns in experiential data such as when I take the later bus, I'm late to work.  Machine Learning is when we teach a computer to do the same thing, namely find patterns in data.  The idea is that humans are really great at finding patterns, but relatively slow at looking through large amounts of data.  Computers need to be trained to find the patterns, but they can process data of the sort of we have (csv files, images, etc) incredibly fast.\n",
    "\n",
    "The revolution of Machine Learning has its roots in two main factors\n",
    "\n",
    "1. A massive amount of newly generated data\n",
    "2. A massive improvement in computer memory and performance\n",
    "\n",
    "If we want to leverage machine learning, we need to learn to teach computers to recognize patterns and leverage that ability to solve real world patterns.  Lets start with a really simple example.\n",
    "\n",
    "Say we have one dimensional data given by a single feature $X$ and a corresponding set of labels $y$.  We want to model this data, so we will create a relationship $f(X) \\approx y$.  This function $f$ will represent our model.  We will generate the data here by randomly choosing an exponent for a trend and adding some random noise.  Let's create the data and see what this looks like."
   ]
  },
  {
   "cell_type": "code",
   "execution_count": 3,
   "metadata": {},
   "outputs": [
    {
     "data": {
      "image/png": "[encoded data removed]",
      "image/svg+xml": "<?xml version=\"1.0\" encoding=\"utf-8\" standalone=\"no\"?>\r\n<!DOCTYPE svg PUBLIC \"-//W3C//DTD SVG 1.1//EN\"\r\n  \"http://www.w3.org/Graphics/SVG/1.1/DTD/svg11.dtd\">\r\n<!-- Created with matplotlib (https://matplotlib.org/) -->\r\n<svg height=\"251.429762pt\" version=\"1.1\" viewBox=\"0 0 380.414688 251.429762\" width=\"380.414688pt\" xmlns=\"http://www.w3.org/2000/svg\" xmlns:xlink=\"http://www.w3.org/1999/xlink\">\r\n <defs>\r\n  <style type=\"text/css\">\r\n*{stroke-linecap:butt;stroke-linejoin:round;}\r\n  </style>\r\n </defs>\r\n <g id=\"figure_1\">\r\n  <g id=\"patch_1\">\r\n   <path d=\"M 0 251.429762 \r\nL 380.414688 251.429762 \r\nL 380.414688 0 \r\nL 0 0 \r\nz\r\n\" style=\"fill:none;\"/>\r\n  </g>\r\n  <g id=\"axes_1\">\r\n   <g id=\"patch_2\">\r\n    <path d=\"M 38.414687 224.669918 \r\nL 373.214688 224.669918 \r\nL 373.214688 7.229918 \r\nL 38.414687 7.229918 \r\nz\r\n\" style=\"fill:#eaeaf2;\"/>\r\n   </g>\r\n   <g id=\"matplotlib.axis_1\">\r\n    <g id=\"xtick_1\">\r\n     <g id=\"line2d_1\">\r\n      <path clip-path=\"url(#paf0a8c5911)\" d=\"M 53.632869 224.669918 \r\nL 53.632869 7.229918 \r\n\" style=\"fill:none;stroke:#ffffff;stroke-linecap:round;\"/>\r\n     </g>\r\n     <g id=\"text_1\">\r\n      <!-- 0.0 -->\r\n      <defs>\r\n       <path d=\"M 4.15625 35.296875 \r\nQ 4.15625 48 6.765625 55.734375 \r\nQ 9.375 63.484375 14.515625 67.671875 \r\nQ 19.671875 71.875 27.484375 71.875 \r\nQ 33.25 71.875 37.59375 69.546875 \r\nQ 41.9375 67.234375 44.765625 62.859375 \r\nQ 47.609375 58.5 49.21875 52.21875 \r\nQ 50.828125 45.953125 50.828125 35.296875 \r\nQ 50.828125 22.703125 48.234375 14.96875 \r\nQ 45.65625 7.234375 40.5 3 \r\nQ 35.359375 -1.21875 27.484375 -1.21875 \r\nQ 17.140625 -1.21875 11.234375 6.203125 \r\nQ 4.15625 15.140625 4.15625 35.296875 \r\nz\r\nM 13.1875 35.296875 \r\nQ 13.1875 17.671875 17.3125 11.828125 \r\nQ 21.4375 6 27.484375 6 \r\nQ 33.546875 6 37.671875 11.859375 \r\nQ 41.796875 17.71875 41.796875 35.296875 \r\nQ 41.796875 52.984375 37.671875 58.78125 \r\nQ 33.546875 64.59375 27.390625 64.59375 \r\nQ 21.34375 64.59375 17.71875 59.46875 \r\nQ 13.1875 52.9375 13.1875 35.296875 \r\nz\r\n\" id=\"ArialMT-48\"/>\r\n       <path d=\"M 9.078125 0 \r\nL 9.078125 10.015625 \r\nL 19.09375 10.015625 \r\nL 19.09375 0 \r\nz\r\n\" id=\"ArialMT-46\"/>\r\n      </defs>\r\n      <g style=\"fill:#262626;\" transform=\"translate(45.987869 242.043512)scale(0.11 -0.11)\">\r\n       <use xlink:href=\"#ArialMT-48\"/>\r\n       <use x=\"55.615234\" xlink:href=\"#ArialMT-46\"/>\r\n       <use x=\"83.398438\" xlink:href=\"#ArialMT-48\"/>\r\n      </g>\r\n     </g>\r\n    </g>\r\n    <g id=\"xtick_2\">\r\n     <g id=\"line2d_2\">\r\n      <path clip-path=\"url(#paf0a8c5911)\" d=\"M 114.505597 224.669918 \r\nL 114.505597 7.229918 \r\n\" style=\"fill:none;stroke:#ffffff;stroke-linecap:round;\"/>\r\n     </g>\r\n     <g id=\"text_2\">\r\n      <!-- 0.2 -->\r\n      <defs>\r\n       <path d=\"M 50.34375 8.453125 \r\nL 50.34375 0 \r\nL 3.03125 0 \r\nQ 2.9375 3.171875 4.046875 6.109375 \r\nQ 5.859375 10.9375 9.828125 15.625 \r\nQ 13.8125 20.3125 21.34375 26.46875 \r\nQ 33.015625 36.03125 37.109375 41.625 \r\nQ 41.21875 47.21875 41.21875 52.203125 \r\nQ 41.21875 57.421875 37.46875 61 \r\nQ 33.734375 64.59375 27.734375 64.59375 \r\nQ 21.390625 64.59375 17.578125 60.78125 \r\nQ 13.765625 56.984375 13.71875 50.25 \r\nL 4.6875 51.171875 \r\nQ 5.609375 61.28125 11.65625 66.578125 \r\nQ 17.71875 71.875 27.9375 71.875 \r\nQ 38.234375 71.875 44.234375 66.15625 \r\nQ 50.25 60.453125 50.25 52 \r\nQ 50.25 47.703125 48.484375 43.546875 \r\nQ 46.734375 39.40625 42.65625 34.8125 \r\nQ 38.578125 30.21875 29.109375 22.21875 \r\nQ 21.1875 15.578125 18.9375 13.203125 \r\nQ 16.703125 10.84375 15.234375 8.453125 \r\nz\r\n\" id=\"ArialMT-50\"/>\r\n      </defs>\r\n      <g style=\"fill:#262626;\" transform=\"translate(106.860597 242.043512)scale(0.11 -0.11)\">\r\n       <use xlink:href=\"#ArialMT-48\"/>\r\n       <use x=\"55.615234\" xlink:href=\"#ArialMT-46\"/>\r\n       <use x=\"83.398438\" xlink:href=\"#ArialMT-50\"/>\r\n      </g>\r\n     </g>\r\n    </g>\r\n    <g id=\"xtick_3\">\r\n     <g id=\"line2d_3\">\r\n      <path clip-path=\"url(#paf0a8c5911)\" d=\"M 175.378324 224.669918 \r\nL 175.378324 7.229918 \r\n\" style=\"fill:none;stroke:#ffffff;stroke-linecap:round;\"/>\r\n     </g>\r\n     <g id=\"text_3\">\r\n      <!-- 0.4 -->\r\n      <defs>\r\n       <path d=\"M 32.328125 0 \r\nL 32.328125 17.140625 \r\nL 1.265625 17.140625 \r\nL 1.265625 25.203125 \r\nL 33.9375 71.578125 \r\nL 41.109375 71.578125 \r\nL 41.109375 25.203125 \r\nL 50.78125 25.203125 \r\nL 50.78125 17.140625 \r\nL 41.109375 17.140625 \r\nL 41.109375 0 \r\nz\r\nM 32.328125 25.203125 \r\nL 32.328125 57.46875 \r\nL 9.90625 25.203125 \r\nz\r\n\" id=\"ArialMT-52\"/>\r\n      </defs>\r\n      <g style=\"fill:#262626;\" transform=\"translate(167.733324 242.043512)scale(0.11 -0.11)\">\r\n       <use xlink:href=\"#ArialMT-48\"/>\r\n       <use x=\"55.615234\" xlink:href=\"#ArialMT-46\"/>\r\n       <use x=\"83.398438\" xlink:href=\"#ArialMT-52\"/>\r\n      </g>\r\n     </g>\r\n    </g>\r\n    <g id=\"xtick_4\">\r\n     <g id=\"line2d_4\">\r\n      <path clip-path=\"url(#paf0a8c5911)\" d=\"M 236.251051 224.669918 \r\nL 236.251051 7.229918 \r\n\" style=\"fill:none;stroke:#ffffff;stroke-linecap:round;\"/>\r\n     </g>\r\n     <g id=\"text_4\">\r\n      <!-- 0.6 -->\r\n      <defs>\r\n       <path d=\"M 49.75 54.046875 \r\nL 41.015625 53.375 \r\nQ 39.84375 58.546875 37.703125 60.890625 \r\nQ 34.125 64.65625 28.90625 64.65625 \r\nQ 24.703125 64.65625 21.53125 62.3125 \r\nQ 17.390625 59.28125 14.984375 53.46875 \r\nQ 12.59375 47.65625 12.5 36.921875 \r\nQ 15.671875 41.75 20.265625 44.09375 \r\nQ 24.859375 46.4375 29.890625 46.4375 \r\nQ 38.671875 46.4375 44.84375 39.96875 \r\nQ 51.03125 33.5 51.03125 23.25 \r\nQ 51.03125 16.5 48.125 10.71875 \r\nQ 45.21875 4.9375 40.140625 1.859375 \r\nQ 35.0625 -1.21875 28.609375 -1.21875 \r\nQ 17.625 -1.21875 10.6875 6.859375 \r\nQ 3.765625 14.9375 3.765625 33.5 \r\nQ 3.765625 54.25 11.421875 63.671875 \r\nQ 18.109375 71.875 29.4375 71.875 \r\nQ 37.890625 71.875 43.28125 67.140625 \r\nQ 48.6875 62.40625 49.75 54.046875 \r\nz\r\nM 13.875 23.1875 \r\nQ 13.875 18.65625 15.796875 14.5 \r\nQ 17.71875 10.359375 21.1875 8.171875 \r\nQ 24.65625 6 28.46875 6 \r\nQ 34.03125 6 38.03125 10.484375 \r\nQ 42.046875 14.984375 42.046875 22.703125 \r\nQ 42.046875 30.125 38.078125 34.390625 \r\nQ 34.125 38.671875 28.125 38.671875 \r\nQ 22.171875 38.671875 18.015625 34.390625 \r\nQ 13.875 30.125 13.875 23.1875 \r\nz\r\n\" id=\"ArialMT-54\"/>\r\n      </defs>\r\n      <g style=\"fill:#262626;\" transform=\"translate(228.606051 242.043512)scale(0.11 -0.11)\">\r\n       <use xlink:href=\"#ArialMT-48\"/>\r\n       <use x=\"55.615234\" xlink:href=\"#ArialMT-46\"/>\r\n       <use x=\"83.398438\" xlink:href=\"#ArialMT-54\"/>\r\n      </g>\r\n     </g>\r\n    </g>\r\n    <g id=\"xtick_5\">\r\n     <g id=\"line2d_5\">\r\n      <path clip-path=\"url(#paf0a8c5911)\" d=\"M 297.123778 224.669918 \r\nL 297.123778 7.229918 \r\n\" style=\"fill:none;stroke:#ffffff;stroke-linecap:round;\"/>\r\n     </g>\r\n     <g id=\"text_5\">\r\n      <!-- 0.8 -->\r\n      <defs>\r\n       <path d=\"M 17.671875 38.8125 \r\nQ 12.203125 40.828125 9.5625 44.53125 \r\nQ 6.9375 48.25 6.9375 53.421875 \r\nQ 6.9375 61.234375 12.546875 66.546875 \r\nQ 18.171875 71.875 27.484375 71.875 \r\nQ 36.859375 71.875 42.578125 66.421875 \r\nQ 48.296875 60.984375 48.296875 53.171875 \r\nQ 48.296875 48.1875 45.671875 44.5 \r\nQ 43.0625 40.828125 37.75 38.8125 \r\nQ 44.34375 36.671875 47.78125 31.875 \r\nQ 51.21875 27.09375 51.21875 20.453125 \r\nQ 51.21875 11.28125 44.71875 5.03125 \r\nQ 38.234375 -1.21875 27.640625 -1.21875 \r\nQ 17.046875 -1.21875 10.546875 5.046875 \r\nQ 4.046875 11.328125 4.046875 20.703125 \r\nQ 4.046875 27.6875 7.59375 32.390625 \r\nQ 11.140625 37.109375 17.671875 38.8125 \r\nz\r\nM 15.921875 53.71875 \r\nQ 15.921875 48.640625 19.1875 45.40625 \r\nQ 22.46875 42.1875 27.6875 42.1875 \r\nQ 32.765625 42.1875 36.015625 45.375 \r\nQ 39.265625 48.578125 39.265625 53.21875 \r\nQ 39.265625 58.0625 35.90625 61.359375 \r\nQ 32.5625 64.65625 27.59375 64.65625 \r\nQ 22.5625 64.65625 19.234375 61.421875 \r\nQ 15.921875 58.203125 15.921875 53.71875 \r\nz\r\nM 13.09375 20.65625 \r\nQ 13.09375 16.890625 14.875 13.375 \r\nQ 16.65625 9.859375 20.171875 7.921875 \r\nQ 23.6875 6 27.734375 6 \r\nQ 34.03125 6 38.125 10.046875 \r\nQ 42.234375 14.109375 42.234375 20.359375 \r\nQ 42.234375 26.703125 38.015625 30.859375 \r\nQ 33.796875 35.015625 27.4375 35.015625 \r\nQ 21.234375 35.015625 17.15625 30.90625 \r\nQ 13.09375 26.8125 13.09375 20.65625 \r\nz\r\n\" id=\"ArialMT-56\"/>\r\n      </defs>\r\n      <g style=\"fill:#262626;\" transform=\"translate(289.478778 242.043512)scale(0.11 -0.11)\">\r\n       <use xlink:href=\"#ArialMT-48\"/>\r\n       <use x=\"55.615234\" xlink:href=\"#ArialMT-46\"/>\r\n       <use x=\"83.398438\" xlink:href=\"#ArialMT-56\"/>\r\n      </g>\r\n     </g>\r\n    </g>\r\n    <g id=\"xtick_6\">\r\n     <g id=\"line2d_6\">\r\n      <path clip-path=\"url(#paf0a8c5911)\" d=\"M 357.996506 224.669918 \r\nL 357.996506 7.229918 \r\n\" style=\"fill:none;stroke:#ffffff;stroke-linecap:round;\"/>\r\n     </g>\r\n     <g id=\"text_6\">\r\n      <!-- 1.0 -->\r\n      <defs>\r\n       <path d=\"M 37.25 0 \r\nL 28.46875 0 \r\nL 28.46875 56 \r\nQ 25.296875 52.984375 20.140625 49.953125 \r\nQ 14.984375 46.921875 10.890625 45.40625 \r\nL 10.890625 53.90625 \r\nQ 18.265625 57.375 23.78125 62.296875 \r\nQ 29.296875 67.234375 31.59375 71.875 \r\nL 37.25 71.875 \r\nz\r\n\" id=\"ArialMT-49\"/>\r\n      </defs>\r\n      <g style=\"fill:#262626;\" transform=\"translate(350.351506 242.043512)scale(0.11 -0.11)\">\r\n       <use xlink:href=\"#ArialMT-49\"/>\r\n       <use x=\"55.615234\" xlink:href=\"#ArialMT-46\"/>\r\n       <use x=\"83.398438\" xlink:href=\"#ArialMT-48\"/>\r\n      </g>\r\n     </g>\r\n    </g>\r\n   </g>\r\n   <g id=\"matplotlib.axis_2\">\r\n    <g id=\"ytick_1\">\r\n     <g id=\"line2d_7\">\r\n      <path clip-path=\"url(#paf0a8c5911)\" d=\"M 38.414687 203.418983 \r\nL 373.214688 203.418983 \r\n\" style=\"fill:none;stroke:#ffffff;stroke-linecap:round;\"/>\r\n     </g>\r\n     <g id=\"text_7\">\r\n      <!-- −0.2 -->\r\n      <defs>\r\n       <path d=\"M 52.828125 31.203125 \r\nL 5.5625 31.203125 \r\nL 5.5625 39.40625 \r\nL 52.828125 39.40625 \r\nz\r\n\" id=\"ArialMT-8722\"/>\r\n      </defs>\r\n      <g style=\"fill:#262626;\" transform=\"translate(7.2 207.35578)scale(0.11 -0.11)\">\r\n       <use xlink:href=\"#ArialMT-8722\"/>\r\n       <use x=\"58.398438\" xlink:href=\"#ArialMT-48\"/>\r\n       <use x=\"114.013672\" xlink:href=\"#ArialMT-46\"/>\r\n       <use x=\"141.796875\" xlink:href=\"#ArialMT-50\"/>\r\n      </g>\r\n     </g>\r\n    </g>\r\n    <g id=\"ytick_2\">\r\n     <g id=\"line2d_8\">\r\n      <path clip-path=\"url(#paf0a8c5911)\" d=\"M 38.414687 175.950099 \r\nL 373.214688 175.950099 \r\n\" style=\"fill:none;stroke:#ffffff;stroke-linecap:round;\"/>\r\n     </g>\r\n     <g id=\"text_8\">\r\n      <!-- 0.0 -->\r\n      <g style=\"fill:#262626;\" transform=\"translate(13.624687 179.886896)scale(0.11 -0.11)\">\r\n       <use xlink:href=\"#ArialMT-48\"/>\r\n       <use x=\"55.615234\" xlink:href=\"#ArialMT-46\"/>\r\n       <use x=\"83.398438\" xlink:href=\"#ArialMT-48\"/>\r\n      </g>\r\n     </g>\r\n    </g>\r\n    <g id=\"ytick_3\">\r\n     <g id=\"line2d_9\">\r\n      <path clip-path=\"url(#paf0a8c5911)\" d=\"M 38.414687 148.481215 \r\nL 373.214688 148.481215 \r\n\" style=\"fill:none;stroke:#ffffff;stroke-linecap:round;\"/>\r\n     </g>\r\n     <g id=\"text_9\">\r\n      <!-- 0.2 -->\r\n      <g style=\"fill:#262626;\" transform=\"translate(13.624687 152.418012)scale(0.11 -0.11)\">\r\n       <use xlink:href=\"#ArialMT-48\"/>\r\n       <use x=\"55.615234\" xlink:href=\"#ArialMT-46\"/>\r\n       <use x=\"83.398438\" xlink:href=\"#ArialMT-50\"/>\r\n      </g>\r\n     </g>\r\n    </g>\r\n    <g id=\"ytick_4\">\r\n     <g id=\"line2d_10\">\r\n      <path clip-path=\"url(#paf0a8c5911)\" d=\"M 38.414687 121.012332 \r\nL 373.214688 121.012332 \r\n\" style=\"fill:none;stroke:#ffffff;stroke-linecap:round;\"/>\r\n     </g>\r\n     <g id=\"text_10\">\r\n      <!-- 0.4 -->\r\n      <g style=\"fill:#262626;\" transform=\"translate(13.624687 124.949129)scale(0.11 -0.11)\">\r\n       <use xlink:href=\"#ArialMT-48\"/>\r\n       <use x=\"55.615234\" xlink:href=\"#ArialMT-46\"/>\r\n       <use x=\"83.398438\" xlink:href=\"#ArialMT-52\"/>\r\n      </g>\r\n     </g>\r\n    </g>\r\n    <g id=\"ytick_5\">\r\n     <g id=\"line2d_11\">\r\n      <path clip-path=\"url(#paf0a8c5911)\" d=\"M 38.414687 93.543448 \r\nL 373.214688 93.543448 \r\n\" style=\"fill:none;stroke:#ffffff;stroke-linecap:round;\"/>\r\n     </g>\r\n     <g id=\"text_11\">\r\n      <!-- 0.6 -->\r\n      <g style=\"fill:#262626;\" transform=\"translate(13.624687 97.480245)scale(0.11 -0.11)\">\r\n       <use xlink:href=\"#ArialMT-48\"/>\r\n       <use x=\"55.615234\" xlink:href=\"#ArialMT-46\"/>\r\n       <use x=\"83.398438\" xlink:href=\"#ArialMT-54\"/>\r\n      </g>\r\n     </g>\r\n    </g>\r\n    <g id=\"ytick_6\">\r\n     <g id=\"line2d_12\">\r\n      <path clip-path=\"url(#paf0a8c5911)\" d=\"M 38.414687 66.074564 \r\nL 373.214688 66.074564 \r\n\" style=\"fill:none;stroke:#ffffff;stroke-linecap:round;\"/>\r\n     </g>\r\n     <g id=\"text_12\">\r\n      <!-- 0.8 -->\r\n      <g style=\"fill:#262626;\" transform=\"translate(13.624687 70.011361)scale(0.11 -0.11)\">\r\n       <use xlink:href=\"#ArialMT-48\"/>\r\n       <use x=\"55.615234\" xlink:href=\"#ArialMT-46\"/>\r\n       <use x=\"83.398438\" xlink:href=\"#ArialMT-56\"/>\r\n      </g>\r\n     </g>\r\n    </g>\r\n    <g id=\"ytick_7\">\r\n     <g id=\"line2d_13\">\r\n      <path clip-path=\"url(#paf0a8c5911)\" d=\"M 38.414687 38.605681 \r\nL 373.214688 38.605681 \r\n\" style=\"fill:none;stroke:#ffffff;stroke-linecap:round;\"/>\r\n     </g>\r\n     <g id=\"text_13\">\r\n      <!-- 1.0 -->\r\n      <g style=\"fill:#262626;\" transform=\"translate(13.624687 42.542477)scale(0.11 -0.11)\">\r\n       <use xlink:href=\"#ArialMT-49\"/>\r\n       <use x=\"55.615234\" xlink:href=\"#ArialMT-46\"/>\r\n       <use x=\"83.398438\" xlink:href=\"#ArialMT-48\"/>\r\n      </g>\r\n     </g>\r\n    </g>\r\n    <g id=\"ytick_8\">\r\n     <g id=\"line2d_14\">\r\n      <path clip-path=\"url(#paf0a8c5911)\" d=\"M 38.414687 11.136797 \r\nL 373.214688 11.136797 \r\n\" style=\"fill:none;stroke:#ffffff;stroke-linecap:round;\"/>\r\n     </g>\r\n     <g id=\"text_14\">\r\n      <!-- 1.2 -->\r\n      <g style=\"fill:#262626;\" transform=\"translate(13.624687 15.073594)scale(0.11 -0.11)\">\r\n       <use xlink:href=\"#ArialMT-49\"/>\r\n       <use x=\"55.615234\" xlink:href=\"#ArialMT-46\"/>\r\n       <use x=\"83.398438\" xlink:href=\"#ArialMT-50\"/>\r\n      </g>\r\n     </g>\r\n    </g>\r\n   </g>\r\n   <g id=\"line2d_15\">\r\n    <defs>\r\n     <path d=\"M 0 1.5 \r\nC 0.397805 1.5 0.77937 1.341951 1.06066 1.06066 \r\nC 1.341951 0.77937 1.5 0.397805 1.5 0 \r\nC 1.5 -0.397805 1.341951 -0.77937 1.06066 -1.06066 \r\nC 0.77937 -1.341951 0.397805 -1.5 0 -1.5 \r\nC -0.397805 -1.5 -0.77937 -1.341951 -1.06066 -1.06066 \r\nC -1.341951 -0.77937 -1.5 -0.397805 -1.5 0 \r\nC -1.5 0.397805 -1.341951 0.77937 -1.06066 1.06066 \r\nC -0.77937 1.341951 -0.397805 1.5 0 1.5 \r\nz\r\n\" id=\"mfbbfc2b522\" style=\"stroke:#4c72b0;\"/>\r\n    </defs>\r\n    <g clip-path=\"url(#paf0a8c5911)\">\r\n     <use style=\"fill:#4c72b0;stroke:#4c72b0;\" x=\"53.632869\" xlink:href=\"#mfbbfc2b522\" y=\"178.080639\"/>\r\n     <use style=\"fill:#4c72b0;stroke:#4c72b0;\" x=\"56.707249\" xlink:href=\"#mfbbfc2b522\" y=\"175.431476\"/>\r\n     <use style=\"fill:#4c72b0;stroke:#4c72b0;\" x=\"59.78163\" xlink:href=\"#mfbbfc2b522\" y=\"201.096962\"/>\r\n     <use style=\"fill:#4c72b0;stroke:#4c72b0;\" x=\"62.85601\" xlink:href=\"#mfbbfc2b522\" y=\"190.493796\"/>\r\n     <use style=\"fill:#4c72b0;stroke:#4c72b0;\" x=\"65.93039\" xlink:href=\"#mfbbfc2b522\" y=\"182.448911\"/>\r\n     <use style=\"fill:#4c72b0;stroke:#4c72b0;\" x=\"69.00477\" xlink:href=\"#mfbbfc2b522\" y=\"188.913488\"/>\r\n     <use style=\"fill:#4c72b0;stroke:#4c72b0;\" x=\"72.07915\" xlink:href=\"#mfbbfc2b522\" y=\"177.486277\"/>\r\n     <use style=\"fill:#4c72b0;stroke:#4c72b0;\" x=\"75.15353\" xlink:href=\"#mfbbfc2b522\" y=\"184.387469\"/>\r\n     <use style=\"fill:#4c72b0;stroke:#4c72b0;\" x=\"78.227911\" xlink:href=\"#mfbbfc2b522\" y=\"214.786282\"/>\r\n     <use style=\"fill:#4c72b0;stroke:#4c72b0;\" x=\"81.302291\" xlink:href=\"#mfbbfc2b522\" y=\"147.159737\"/>\r\n     <use style=\"fill:#4c72b0;stroke:#4c72b0;\" x=\"84.376671\" xlink:href=\"#mfbbfc2b522\" y=\"206.191647\"/>\r\n     <use style=\"fill:#4c72b0;stroke:#4c72b0;\" x=\"87.451051\" xlink:href=\"#mfbbfc2b522\" y=\"173.631751\"/>\r\n     <use style=\"fill:#4c72b0;stroke:#4c72b0;\" x=\"90.525431\" xlink:href=\"#mfbbfc2b522\" y=\"183.630277\"/>\r\n     <use style=\"fill:#4c72b0;stroke:#4c72b0;\" x=\"93.599811\" xlink:href=\"#mfbbfc2b522\" y=\"168.044919\"/>\r\n     <use style=\"fill:#4c72b0;stroke:#4c72b0;\" x=\"96.674192\" xlink:href=\"#mfbbfc2b522\" y=\"173.09468\"/>\r\n     <use style=\"fill:#4c72b0;stroke:#4c72b0;\" x=\"99.748572\" xlink:href=\"#mfbbfc2b522\" y=\"161.544959\"/>\r\n     <use style=\"fill:#4c72b0;stroke:#4c72b0;\" x=\"102.822952\" xlink:href=\"#mfbbfc2b522\" y=\"168.712707\"/>\r\n     <use style=\"fill:#4c72b0;stroke:#4c72b0;\" x=\"105.897332\" xlink:href=\"#mfbbfc2b522\" y=\"190.191911\"/>\r\n     <use style=\"fill:#4c72b0;stroke:#4c72b0;\" x=\"108.971712\" xlink:href=\"#mfbbfc2b522\" y=\"177.836988\"/>\r\n     <use style=\"fill:#4c72b0;stroke:#4c72b0;\" x=\"112.046092\" xlink:href=\"#mfbbfc2b522\" y=\"176.541943\"/>\r\n     <use style=\"fill:#4c72b0;stroke:#4c72b0;\" x=\"115.120473\" xlink:href=\"#mfbbfc2b522\" y=\"186.655882\"/>\r\n     <use style=\"fill:#4c72b0;stroke:#4c72b0;\" x=\"118.194853\" xlink:href=\"#mfbbfc2b522\" y=\"180.030781\"/>\r\n     <use style=\"fill:#4c72b0;stroke:#4c72b0;\" x=\"121.269233\" xlink:href=\"#mfbbfc2b522\" y=\"152.616819\"/>\r\n     <use style=\"fill:#4c72b0;stroke:#4c72b0;\" x=\"124.343613\" xlink:href=\"#mfbbfc2b522\" y=\"194.146576\"/>\r\n     <use style=\"fill:#4c72b0;stroke:#4c72b0;\" x=\"127.417993\" xlink:href=\"#mfbbfc2b522\" y=\"187.03551\"/>\r\n     <use style=\"fill:#4c72b0;stroke:#4c72b0;\" x=\"130.492373\" xlink:href=\"#mfbbfc2b522\" y=\"169.394902\"/>\r\n     <use style=\"fill:#4c72b0;stroke:#4c72b0;\" x=\"133.566754\" xlink:href=\"#mfbbfc2b522\" y=\"182.784596\"/>\r\n     <use style=\"fill:#4c72b0;stroke:#4c72b0;\" x=\"136.641134\" xlink:href=\"#mfbbfc2b522\" y=\"162.434786\"/>\r\n     <use style=\"fill:#4c72b0;stroke:#4c72b0;\" x=\"139.715514\" xlink:href=\"#mfbbfc2b522\" y=\"157.184698\"/>\r\n     <use style=\"fill:#4c72b0;stroke:#4c72b0;\" x=\"142.789894\" xlink:href=\"#mfbbfc2b522\" y=\"194.023566\"/>\r\n     <use style=\"fill:#4c72b0;stroke:#4c72b0;\" x=\"145.864274\" xlink:href=\"#mfbbfc2b522\" y=\"190.024949\"/>\r\n     <use style=\"fill:#4c72b0;stroke:#4c72b0;\" x=\"148.938654\" xlink:href=\"#mfbbfc2b522\" y=\"170.497378\"/>\r\n     <use style=\"fill:#4c72b0;stroke:#4c72b0;\" x=\"152.013035\" xlink:href=\"#mfbbfc2b522\" y=\"174.235083\"/>\r\n     <use style=\"fill:#4c72b0;stroke:#4c72b0;\" x=\"155.087415\" xlink:href=\"#mfbbfc2b522\" y=\"144.467826\"/>\r\n     <use style=\"fill:#4c72b0;stroke:#4c72b0;\" x=\"158.161795\" xlink:href=\"#mfbbfc2b522\" y=\"166.312792\"/>\r\n     <use style=\"fill:#4c72b0;stroke:#4c72b0;\" x=\"161.236175\" xlink:href=\"#mfbbfc2b522\" y=\"168.24291\"/>\r\n     <use style=\"fill:#4c72b0;stroke:#4c72b0;\" x=\"164.310555\" xlink:href=\"#mfbbfc2b522\" y=\"166.817956\"/>\r\n     <use style=\"fill:#4c72b0;stroke:#4c72b0;\" x=\"167.384935\" xlink:href=\"#mfbbfc2b522\" y=\"204.646309\"/>\r\n     <use style=\"fill:#4c72b0;stroke:#4c72b0;\" x=\"170.459316\" xlink:href=\"#mfbbfc2b522\" y=\"161.867167\"/>\r\n     <use style=\"fill:#4c72b0;stroke:#4c72b0;\" x=\"173.533696\" xlink:href=\"#mfbbfc2b522\" y=\"172.512774\"/>\r\n     <use style=\"fill:#4c72b0;stroke:#4c72b0;\" x=\"176.608076\" xlink:href=\"#mfbbfc2b522\" y=\"178.596911\"/>\r\n     <use style=\"fill:#4c72b0;stroke:#4c72b0;\" x=\"179.682456\" xlink:href=\"#mfbbfc2b522\" y=\"181.62781\"/>\r\n     <use style=\"fill:#4c72b0;stroke:#4c72b0;\" x=\"182.756836\" xlink:href=\"#mfbbfc2b522\" y=\"166.645294\"/>\r\n     <use style=\"fill:#4c72b0;stroke:#4c72b0;\" x=\"185.831216\" xlink:href=\"#mfbbfc2b522\" y=\"176.759463\"/>\r\n     <use style=\"fill:#4c72b0;stroke:#4c72b0;\" x=\"188.905597\" xlink:href=\"#mfbbfc2b522\" y=\"153.547407\"/>\r\n     <use style=\"fill:#4c72b0;stroke:#4c72b0;\" x=\"191.979977\" xlink:href=\"#mfbbfc2b522\" y=\"173.887543\"/>\r\n     <use style=\"fill:#4c72b0;stroke:#4c72b0;\" x=\"195.054357\" xlink:href=\"#mfbbfc2b522\" y=\"156.029704\"/>\r\n     <use style=\"fill:#4c72b0;stroke:#4c72b0;\" x=\"198.128737\" xlink:href=\"#mfbbfc2b522\" y=\"146.422865\"/>\r\n     <use style=\"fill:#4c72b0;stroke:#4c72b0;\" x=\"201.203117\" xlink:href=\"#mfbbfc2b522\" y=\"165.280483\"/>\r\n     <use style=\"fill:#4c72b0;stroke:#4c72b0;\" x=\"204.277497\" xlink:href=\"#mfbbfc2b522\" y=\"152.93063\"/>\r\n     <use style=\"fill:#4c72b0;stroke:#4c72b0;\" x=\"207.351878\" xlink:href=\"#mfbbfc2b522\" y=\"161.556487\"/>\r\n     <use style=\"fill:#4c72b0;stroke:#4c72b0;\" x=\"210.426258\" xlink:href=\"#mfbbfc2b522\" y=\"178.851596\"/>\r\n     <use style=\"fill:#4c72b0;stroke:#4c72b0;\" x=\"213.500638\" xlink:href=\"#mfbbfc2b522\" y=\"139.308356\"/>\r\n     <use style=\"fill:#4c72b0;stroke:#4c72b0;\" x=\"216.575018\" xlink:href=\"#mfbbfc2b522\" y=\"159.902374\"/>\r\n     <use style=\"fill:#4c72b0;stroke:#4c72b0;\" x=\"219.649398\" xlink:href=\"#mfbbfc2b522\" y=\"148.410754\"/>\r\n     <use style=\"fill:#4c72b0;stroke:#4c72b0;\" x=\"222.723778\" xlink:href=\"#mfbbfc2b522\" y=\"163.650223\"/>\r\n     <use style=\"fill:#4c72b0;stroke:#4c72b0;\" x=\"225.798159\" xlink:href=\"#mfbbfc2b522\" y=\"145.054484\"/>\r\n     <use style=\"fill:#4c72b0;stroke:#4c72b0;\" x=\"228.872539\" xlink:href=\"#mfbbfc2b522\" y=\"131.592733\"/>\r\n     <use style=\"fill:#4c72b0;stroke:#4c72b0;\" x=\"231.946919\" xlink:href=\"#mfbbfc2b522\" y=\"150.02687\"/>\r\n     <use style=\"fill:#4c72b0;stroke:#4c72b0;\" x=\"235.021299\" xlink:href=\"#mfbbfc2b522\" y=\"153.747429\"/>\r\n     <use style=\"fill:#4c72b0;stroke:#4c72b0;\" x=\"238.095679\" xlink:href=\"#mfbbfc2b522\" y=\"123.13479\"/>\r\n     <use style=\"fill:#4c72b0;stroke:#4c72b0;\" x=\"241.170059\" xlink:href=\"#mfbbfc2b522\" y=\"164.398814\"/>\r\n     <use style=\"fill:#4c72b0;stroke:#4c72b0;\" x=\"244.24444\" xlink:href=\"#mfbbfc2b522\" y=\"142.390145\"/>\r\n     <use style=\"fill:#4c72b0;stroke:#4c72b0;\" x=\"247.31882\" xlink:href=\"#mfbbfc2b522\" y=\"123.684316\"/>\r\n     <use style=\"fill:#4c72b0;stroke:#4c72b0;\" x=\"250.3932\" xlink:href=\"#mfbbfc2b522\" y=\"132.106812\"/>\r\n     <use style=\"fill:#4c72b0;stroke:#4c72b0;\" x=\"253.46758\" xlink:href=\"#mfbbfc2b522\" y=\"144.367001\"/>\r\n     <use style=\"fill:#4c72b0;stroke:#4c72b0;\" x=\"256.54196\" xlink:href=\"#mfbbfc2b522\" y=\"164.349906\"/>\r\n     <use style=\"fill:#4c72b0;stroke:#4c72b0;\" x=\"259.61634\" xlink:href=\"#mfbbfc2b522\" y=\"138.837447\"/>\r\n     <use style=\"fill:#4c72b0;stroke:#4c72b0;\" x=\"262.690721\" xlink:href=\"#mfbbfc2b522\" y=\"113.413006\"/>\r\n     <use style=\"fill:#4c72b0;stroke:#4c72b0;\" x=\"265.765101\" xlink:href=\"#mfbbfc2b522\" y=\"115.134828\"/>\r\n     <use style=\"fill:#4c72b0;stroke:#4c72b0;\" x=\"268.839481\" xlink:href=\"#mfbbfc2b522\" y=\"120.209346\"/>\r\n     <use style=\"fill:#4c72b0;stroke:#4c72b0;\" x=\"271.913861\" xlink:href=\"#mfbbfc2b522\" y=\"117.139648\"/>\r\n     <use style=\"fill:#4c72b0;stroke:#4c72b0;\" x=\"274.988241\" xlink:href=\"#mfbbfc2b522\" y=\"118.979672\"/>\r\n     <use style=\"fill:#4c72b0;stroke:#4c72b0;\" x=\"278.062621\" xlink:href=\"#mfbbfc2b522\" y=\"111.500873\"/>\r\n     <use style=\"fill:#4c72b0;stroke:#4c72b0;\" x=\"281.137002\" xlink:href=\"#mfbbfc2b522\" y=\"130.987288\"/>\r\n     <use style=\"fill:#4c72b0;stroke:#4c72b0;\" x=\"284.211382\" xlink:href=\"#mfbbfc2b522\" y=\"96.596448\"/>\r\n     <use style=\"fill:#4c72b0;stroke:#4c72b0;\" x=\"287.285762\" xlink:href=\"#mfbbfc2b522\" y=\"85.593593\"/>\r\n     <use style=\"fill:#4c72b0;stroke:#4c72b0;\" x=\"290.360142\" xlink:href=\"#mfbbfc2b522\" y=\"117.744686\"/>\r\n     <use style=\"fill:#4c72b0;stroke:#4c72b0;\" x=\"293.434522\" xlink:href=\"#mfbbfc2b522\" y=\"112.07424\"/>\r\n     <use style=\"fill:#4c72b0;stroke:#4c72b0;\" x=\"296.508902\" xlink:href=\"#mfbbfc2b522\" y=\"92.52834\"/>\r\n     <use style=\"fill:#4c72b0;stroke:#4c72b0;\" x=\"299.583283\" xlink:href=\"#mfbbfc2b522\" y=\"103.066511\"/>\r\n     <use style=\"fill:#4c72b0;stroke:#4c72b0;\" x=\"302.657663\" xlink:href=\"#mfbbfc2b522\" y=\"106.631052\"/>\r\n     <use style=\"fill:#4c72b0;stroke:#4c72b0;\" x=\"305.732043\" xlink:href=\"#mfbbfc2b522\" y=\"76.858735\"/>\r\n     <use style=\"fill:#4c72b0;stroke:#4c72b0;\" x=\"308.806423\" xlink:href=\"#mfbbfc2b522\" y=\"83.896693\"/>\r\n     <use style=\"fill:#4c72b0;stroke:#4c72b0;\" x=\"311.880803\" xlink:href=\"#mfbbfc2b522\" y=\"121.090618\"/>\r\n     <use style=\"fill:#4c72b0;stroke:#4c72b0;\" x=\"314.955183\" xlink:href=\"#mfbbfc2b522\" y=\"89.735555\"/>\r\n     <use style=\"fill:#4c72b0;stroke:#4c72b0;\" x=\"318.029564\" xlink:href=\"#mfbbfc2b522\" y=\"105.439785\"/>\r\n     <use style=\"fill:#4c72b0;stroke:#4c72b0;\" x=\"321.103944\" xlink:href=\"#mfbbfc2b522\" y=\"67.536915\"/>\r\n     <use style=\"fill:#4c72b0;stroke:#4c72b0;\" x=\"324.178324\" xlink:href=\"#mfbbfc2b522\" y=\"68.563301\"/>\r\n     <use style=\"fill:#4c72b0;stroke:#4c72b0;\" x=\"327.252704\" xlink:href=\"#mfbbfc2b522\" y=\"75.303528\"/>\r\n     <use style=\"fill:#4c72b0;stroke:#4c72b0;\" x=\"330.327084\" xlink:href=\"#mfbbfc2b522\" y=\"69.716104\"/>\r\n     <use style=\"fill:#4c72b0;stroke:#4c72b0;\" x=\"333.401464\" xlink:href=\"#mfbbfc2b522\" y=\"92.382788\"/>\r\n     <use style=\"fill:#4c72b0;stroke:#4c72b0;\" x=\"336.475845\" xlink:href=\"#mfbbfc2b522\" y=\"52.968601\"/>\r\n     <use style=\"fill:#4c72b0;stroke:#4c72b0;\" x=\"339.550225\" xlink:href=\"#mfbbfc2b522\" y=\"60.162181\"/>\r\n     <use style=\"fill:#4c72b0;stroke:#4c72b0;\" x=\"342.624605\" xlink:href=\"#mfbbfc2b522\" y=\"66.461002\"/>\r\n     <use style=\"fill:#4c72b0;stroke:#4c72b0;\" x=\"345.698985\" xlink:href=\"#mfbbfc2b522\" y=\"57.443177\"/>\r\n     <use style=\"fill:#4c72b0;stroke:#4c72b0;\" x=\"348.773365\" xlink:href=\"#mfbbfc2b522\" y=\"56.953964\"/>\r\n     <use style=\"fill:#4c72b0;stroke:#4c72b0;\" x=\"351.847745\" xlink:href=\"#mfbbfc2b522\" y=\"37.702355\"/>\r\n     <use style=\"fill:#4c72b0;stroke:#4c72b0;\" x=\"354.922126\" xlink:href=\"#mfbbfc2b522\" y=\"17.113554\"/>\r\n     <use style=\"fill:#4c72b0;stroke:#4c72b0;\" x=\"357.996506\" xlink:href=\"#mfbbfc2b522\" y=\"77.381866\"/>\r\n    </g>\r\n   </g>\r\n   <g id=\"patch_3\">\r\n    <path d=\"M 38.414687 224.669918 \r\nL 38.414687 7.229918 \r\n\" style=\"fill:none;stroke:#ffffff;stroke-linecap:square;stroke-linejoin:miter;stroke-width:1.25;\"/>\r\n   </g>\r\n   <g id=\"patch_4\">\r\n    <path d=\"M 373.214688 224.669918 \r\nL 373.214688 7.229918 \r\n\" style=\"fill:none;stroke:#ffffff;stroke-linecap:square;stroke-linejoin:miter;stroke-width:1.25;\"/>\r\n   </g>\r\n   <g id=\"patch_5\">\r\n    <path d=\"M 38.414687 224.669918 \r\nL 373.214688 224.669918 \r\n\" style=\"fill:none;stroke:#ffffff;stroke-linecap:square;stroke-linejoin:miter;stroke-width:1.25;\"/>\r\n   </g>\r\n   <g id=\"patch_6\">\r\n    <path d=\"M 38.414687 7.229918 \r\nL 373.214688 7.229918 \r\n\" style=\"fill:none;stroke:#ffffff;stroke-linecap:square;stroke-linejoin:miter;stroke-width:1.25;\"/>\r\n   </g>\r\n  </g>\r\n </g>\r\n <defs>\r\n  <clipPath id=\"paf0a8c5911\">\r\n   <rect height=\"217.44\" width=\"334.8\" x=\"38.414687\" y=\"7.229918\"/>\r\n  </clipPath>\r\n </defs>\r\n</svg>\r\n",
      "text/plain": "<Figure size 432x288 with 1 Axes>"
     },
     "metadata": {
      "needs_background": "light"
     },
     "output_type": "display_data"
    }
   ],
   "source": [
    "X = np.linspace(0, 1, 100)\n",
    "exp = np.random.choice([2, 3])\n",
    "y = X**exp + np.random.randn(X.shape[0])/10\n",
    "plt.plot(X, y, '.');"
   ]
  },
  {
   "cell_type": "markdown",
   "metadata": {},
   "source": [
    "We will now generate the predictive relationship by using one of the simplest possible methods, fitting a line to the data"
   ]
  },
  {
   "cell_type": "code",
   "execution_count": null,
   "metadata": {},
   "outputs": [],
   "source": [
    "p = np.polyfit(X, y, 1)\n",
    "z = np.poly1d(p)\n",
    "plt.plot(X, y, '.')\n",
    "plt.plot(X, z(X), label=r\"Model: ${:.2f}x + {:.2f}$\".format(*p))\n",
    "plt.plot(X, X**exp, label=r'Truth: $x^{}$'.format(exp))\n",
    "plt.legend();"
   ]
  },
  {
   "cell_type": "markdown",
   "metadata": {},
   "source": [
    "We now have a model for this data, learned by the computer, namely given an $X$ value (or a bunch of values), we can predict the output.  In the context of Machine Learning, this is called a Linear Regression and is a quite powerful and general method to learn.  Just this example opens up many questions we will be answering in later lectures:\n",
    "\n",
    "1. How good is the model?\n",
    "2. Can we add flexibility to the model?\n",
    "3. Is the model generalizable?\n",
    "4. What does this model teach us about the data?\n",
    "\n",
    "Lets start with question 4, which in many ways is the most important question.  For this simple model we can see that the $y$ vector of labels has a positive correlation with the features $X$. \n",
    "\n",
    "Normally the goal of machine learning is two-fold\n",
    "\n",
    "1. To understand the data we already have\n",
    "2. Use this understand to make predictions about unlabeled data\n",
    "\n",
    "Machine Learning falls into two classes, **supervised** learning and **unsupervised** learning.  In supervised learning we are trying to learn a predictive relationship between **features** of our data and some sort of output label. In unsupervised learning we want to find trends in our features without using any target labels. Unsupervised learning typically relies on reducing the dimensionality of the data.  \n",
    "\n",
    "A human example of supervised learning would be borrowing books from a library on mathematics and geography. By reading different books belonging to each topic, we learn what symbols, images, and words are associated with math, and which are associated with geography. A similar unsupervised task would be to borrow many books without knowing their subject. We can see some books contain similar images (maps) and some books contain similar symbols (e.g. the Greek letters $\\Sigma$ and $\\pi$). We say the books containing maps are similar and that they are different from the books containing Greek letters. Crucially, _we do not know what the books are about, only that they are similar or different_.\n",
    "\n",
    "Lets first talk about supervised learning as that is where we will spend most of our time.\n",
    "\n",
    "Formally, the supervised machine problem can be stated as given a matrix $X$, of dimensions $n \\times p$, create a predictive relationship (or function) $f(X)$ where $f(X) \\approx y$, where $y$ is a vector of dimension $n$.  $X$ is referred to as the **feature matrix** and $y$ as the **labels**.\n",
    "\n",
    "The general goal of supervised learning is to then apply this model to unlabeled data where can build a feature matrix representative of the original.  This allows us to make predictions! \n",
    "\n",
    "Of course, machine learning is just a tool, one which must be applied with care and thought.  It is not the ideal solution to every problem.  Let us take a look at some of the issues we might find."
   ]
  },
  {
   "cell_type": "markdown",
   "metadata": {},
   "source": [
    "## Machine Learning Difficulties\n",
    "\n",
    "Models can be heavily biased and thus not flexible enough to handle generalization.  Let us plot our original function over a larger range and use the model from before."
   ]
  },
  {
   "cell_type": "code",
   "execution_count": null,
   "metadata": {},
   "outputs": [],
   "source": [
    "X = np.linspace(0, 2, 100)\n",
    "y = X**exp + np.random.randn(X.shape[0])/10\n",
    "plt.plot(X, z(X), label=r\"${:.2f}x + {:.2f}$\".format(*p))\n",
    "plt.plot(X, y,'.', label=r'$x^{}$'.format(exp))\n",
    "plt.legend();"
   ]
  },
  {
   "cell_type": "markdown",
   "metadata": {},
   "source": [
    "The model works fairly well for the range over which initially considered our data, but we can see it will not generalize well to features outside the of the range we considered.  This is a general problem; we should be careful that our training data contains a well sampled distribution over which we expect to make predictions (or we have some prior knowledge that tells us we should be able to extrapolate beyond the domain of our training data).  Machine learning finds patterns in data that it's already seen, and it can't always make good predictions on data it hasn't. \n",
    "\n",
    "Lets try to fix this by adding more parameters to the model."
   ]
  },
  {
   "cell_type": "code",
   "execution_count": null,
   "metadata": {},
   "outputs": [],
   "source": [
    "p = np.polyfit(X, y, 15)\n",
    "z = np.poly1d(p)\n",
    "plt.figure(figsize=[14, 6])\n",
    "plt.plot(X, z(X), label=r\"${:.2f}x^{{15}} + {:.2f}x^{{14}} + ... + {:.2f}$\".format(*p[[0, 1, -1]]))\n",
    "plt.plot(X, y,'.', label=r'$x^{}$'.format(exp))\n",
    "plt.legend();"
   ]
  },
  {
   "cell_type": "markdown",
   "metadata": {},
   "source": [
    "Wow looks like a perfect fit!  Maybe too good?  It looks like the model is fitting little wiggles in the data which we know are not real (the actual data is derived from a simple exponent).  Lets try to generalize again."
   ]
  },
  {
   "cell_type": "code",
   "execution_count": null,
   "metadata": {},
   "outputs": [],
   "source": [
    "X = np.linspace(0, 2.5, 100)\n",
    "y = X**exp + np.random.randn(X.shape[0])/10\n",
    "plt.plot(X, z(X), label=r\"model\")\n",
    "plt.plot(X, y,'.', label=r'$x^{}$'.format(exp))\n",
    "plt.legend();"
   ]
  },
  {
   "cell_type": "markdown",
   "metadata": {},
   "source": [
    "Wow again!  That is pretty bad.  This is an example of overfitting, where we have allowed the model too much flexibility and it has fit the noise in the data which is not generalizable.\n",
    "\n",
    "We will learn more how to combat these issues, but the point is that we need to be careful when choose the model we want to use and the **hyperparameters** (in this case, order of the polynomial) for the model."
   ]
  },
  {
   "cell_type": "markdown",
   "metadata": {},
   "source": [
    "## Scikit-Learn\n",
    "\n",
    "In order to perform machine learning we will make use of the `scikit-learn` package will offer a unified class based interface to different machine learning models and utilities.  `Scikit-learn` is based around the idea of an `Estimator` class which implements the methods necessary for machine learning.  \n",
    "\n",
    "Each estimator object will implement a `fit` method which accepts as arguments a feature matrix `X` and a label vector `y` as well as a `predict` method which accepts a an argument a feature matrix `X`.  Lets go through an example.  \n",
    "\n",
    "First we will need to import the estimator we want, in this case a `LinearRegression` (we only have to do this once per namespace, it's just a Python class)."
   ]
  },
  {
   "cell_type": "code",
   "execution_count": null,
   "metadata": {},
   "outputs": [],
   "source": [
    "from sklearn.linear_model import LinearRegression"
   ]
  },
  {
   "cell_type": "markdown",
   "metadata": {},
   "source": [
    "Now we can instantiate an instance of this class and pass any hyperparameters into the creation.  The [`LinearRegression`](http://scikit-learn.org/stable/modules/generated/sklearn.linear_model.LinearRegression.html) has two main hyperparameters, `fit_intercept` and `normalize`.  These have default values, but we will specify them here explicitly."
   ]
  },
  {
   "cell_type": "code",
   "execution_count": null,
   "metadata": {},
   "outputs": [],
   "source": [
    "lr = LinearRegression(fit_intercept=True, normalize=False)\n",
    "lr"
   ]
  },
  {
   "cell_type": "markdown",
   "metadata": {},
   "source": [
    "Now we can use this object to fit our data from before.  We will use the `fit` method to do this.  We will need to reshape the `X` vector so that its a feature matrix of a single column instead of a one dimensional vector."
   ]
  },
  {
   "cell_type": "code",
   "execution_count": null,
   "metadata": {},
   "outputs": [],
   "source": [
    "lr.fit(X.reshape(-1, 1), y)"
   ]
  },
  {
   "cell_type": "markdown",
   "metadata": {},
   "source": [
    "The `fit` method will perform the fit and save the fitted parameters internal to the state of the object.  We can see them if we wish."
   ]
  },
  {
   "cell_type": "code",
   "execution_count": null,
   "metadata": {},
   "outputs": [],
   "source": [
    "lr.coef_, lr.intercept_"
   ]
  },
  {
   "cell_type": "markdown",
   "metadata": {},
   "source": [
    "Saving the parameters inside the instance is extremely useful as it allows us to pickle the entire object and save the parameters inside the model itself.  \n",
    "\n",
    "Lastly we can use the `predict` method to make predictions. "
   ]
  },
  {
   "cell_type": "code",
   "execution_count": null,
   "metadata": {},
   "outputs": [],
   "source": [
    "predictions = lr.predict(X.reshape(-1, 1))\n",
    "plt.plot(X, y, '.', label='data')\n",
    "plt.plot(X, predictions, label='model')\n",
    "plt.legend();"
   ]
  },
  {
   "cell_type": "markdown",
   "metadata": {},
   "source": [
    "We will explore linear models in more detail in a later lecture, but if we want to make this model better, we will need to engineer some better features.  To get a sneak peak of where we are going, lets deploy some more `scikit-learn` machinery."
   ]
  },
  {
   "cell_type": "code",
   "execution_count": null,
   "metadata": {},
   "outputs": [],
   "source": [
    "from sklearn.pipeline import Pipeline\n",
    "from sklearn.preprocessing import PolynomialFeatures\n",
    "\n",
    "pipe = Pipeline([\n",
    "    ('polynomial_transform', PolynomialFeatures(3)),\n",
    "    ('linear_fit', LinearRegression())\n",
    "])\n",
    "\n",
    "pipe.fit(X.reshape(-1, 1), y)\n",
    "\n",
    "predictions = pipe.predict(X.reshape(-1, 1))\n",
    "plt.plot(X, y, '.', label='data')\n",
    "plt.plot(X, predictions, label='model')\n",
    "plt.legend();"
   ]
  },
  {
   "cell_type": "markdown",
   "metadata": {},
   "source": [
    "Does this generalize?"
   ]
  },
  {
   "cell_type": "code",
   "execution_count": null,
   "metadata": {},
   "outputs": [],
   "source": [
    "X = np.linspace(0, 4, 100)\n",
    "y = X**exp + np.random.randn(X.shape[0])/10\n",
    "predictions = pipe.predict(X.reshape(-1, 1))\n",
    "plt.plot(X, y, '.', label='data')\n",
    "plt.plot(X, predictions, label='model')\n",
    "plt.legend();"
   ]
  },
  {
   "cell_type": "markdown",
   "metadata": {},
   "source": [
    "*Copyright &copy; 2019 The Data Incubator.  All rights reserved.*"
   ]
  }
 ],
 "metadata": {
  "kernelspec": {
   "display_name": "Python 3",
   "language": "python",
   "name": "python3"
  },
  "language_info": {
   "codemirror_mode": {
    "name": "ipython",
    "version": 3
   },
   "file_extension": ".py",
   "mimetype": "text/x-python",
   "name": "python",
   "nbconvert_exporter": "python",
   "pygments_lexer": "ipython3",
   "version": "3.7.4-final"
  },
  "nbclean": true
 },
 "nbformat": 4,
 "nbformat_minor": 1
}